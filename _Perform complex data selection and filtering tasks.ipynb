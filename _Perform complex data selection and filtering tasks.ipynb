{
 "cells": [
  {
   "cell_type": "code",
   "execution_count": 1,
   "id": "5df6ee",
   "metadata": {
    "collapsed": false
   },
   "outputs": [
    {
     "name": "stdout",
     "output_type": "stream",
     "text": [
      "Hello\n"
     ]
    }
   ],
   "source": [
    "print('Hello')"
   ]
  },
  {
   "cell_type": "code",
   "execution_count": 3,
   "id": "c9ba61",
   "metadata": {
    "collapsed": false
   },
   "outputs": [
    {
     "data": {
      "text/html": [
       "<div>\n",
       "<style scoped>\n",
       "    .dataframe tbody tr th:only-of-type {\n",
       "        vertical-align: middle;\n",
       "    }\n",
       "\n",
       "    .dataframe tbody tr th {\n",
       "        vertical-align: top;\n",
       "    }\n",
       "\n",
       "    .dataframe thead th {\n",
       "        text-align: right;\n",
       "    }\n",
       "</style>\n",
       "<table border=\"1\" class=\"dataframe\">\n",
       "  <thead>\n",
       "    <tr style=\"text-align: right;\">\n",
       "      <th></th>\n",
       "      <th>Book_ID</th>\n",
       "      <th>Title</th>\n",
       "      <th>Author</th>\n",
       "      <th>Genre</th>\n",
       "      <th>Year</th>\n",
       "      <th>Rating</th>\n",
       "      <th>Available</th>\n",
       "    </tr>\n",
       "  </thead>\n",
       "  <tbody>\n",
       "    <tr>\n",
       "      <th>0</th>\n",
       "      <td>1</td>\n",
       "      <td>The Great Gatsby</td>\n",
       "      <td>F. Scott Fitzgerald</td>\n",
       "      <td>Fiction</td>\n",
       "      <td>1925</td>\n",
       "      <td>8.5</td>\n",
       "      <td>Yes</td>\n",
       "    </tr>\n",
       "    <tr>\n",
       "      <th>1</th>\n",
       "      <td>2</td>\n",
       "      <td>1984</td>\n",
       "      <td>George Orwell</td>\n",
       "      <td>Dystopian</td>\n",
       "      <td>1949</td>\n",
       "      <td>9.0</td>\n",
       "      <td>No</td>\n",
       "    </tr>\n",
       "    <tr>\n",
       "      <th>2</th>\n",
       "      <td>3</td>\n",
       "      <td>To Kill a Mockingbird</td>\n",
       "      <td>Harper Lee</td>\n",
       "      <td>Fiction</td>\n",
       "      <td>1960</td>\n",
       "      <td>9.3</td>\n",
       "      <td>Yes</td>\n",
       "    </tr>\n",
       "    <tr>\n",
       "      <th>3</th>\n",
       "      <td>4</td>\n",
       "      <td>Brave New World</td>\n",
       "      <td>Aldous Huxley</td>\n",
       "      <td>Dystopian</td>\n",
       "      <td>1932</td>\n",
       "      <td>8.0</td>\n",
       "      <td>Yes</td>\n",
       "    </tr>\n",
       "    <tr>\n",
       "      <th>4</th>\n",
       "      <td>5</td>\n",
       "      <td>Moby Dick</td>\n",
       "      <td>Herman Melville</td>\n",
       "      <td>Fiction</td>\n",
       "      <td>1851</td>\n",
       "      <td>7.5</td>\n",
       "      <td>No</td>\n",
       "    </tr>\n",
       "    <tr>\n",
       "      <th>5</th>\n",
       "      <td>6</td>\n",
       "      <td>The Catcher in the Rye</td>\n",
       "      <td>J.D. Salinger</td>\n",
       "      <td>Fiction</td>\n",
       "      <td>1951</td>\n",
       "      <td>8.0</td>\n",
       "      <td>Yes</td>\n",
       "    </tr>\n",
       "    <tr>\n",
       "      <th>6</th>\n",
       "      <td>7</td>\n",
       "      <td>The Road</td>\n",
       "      <td>Cormac McCarthy</td>\n",
       "      <td>Dystopian</td>\n",
       "      <td>2006</td>\n",
       "      <td>8.5</td>\n",
       "      <td>Yes</td>\n",
       "    </tr>\n",
       "    <tr>\n",
       "      <th>7</th>\n",
       "      <td>8</td>\n",
       "      <td>Pride and Prejudice</td>\n",
       "      <td>Jane Austen</td>\n",
       "      <td>Romance</td>\n",
       "      <td>1813</td>\n",
       "      <td>9.1</td>\n",
       "      <td>Yes</td>\n",
       "    </tr>\n",
       "    <tr>\n",
       "      <th>8</th>\n",
       "      <td>9</td>\n",
       "      <td>Fahrenheit 451</td>\n",
       "      <td>Ray Bradbury</td>\n",
       "      <td>Dystopian</td>\n",
       "      <td>1953</td>\n",
       "      <td>8.2</td>\n",
       "      <td>No</td>\n",
       "    </tr>\n",
       "    <tr>\n",
       "      <th>9</th>\n",
       "      <td>10</td>\n",
       "      <td>War and Peace</td>\n",
       "      <td>Leo Tolstoy</td>\n",
       "      <td>Historical</td>\n",
       "      <td>1869</td>\n",
       "      <td>9.0</td>\n",
       "      <td>Yes</td>\n",
       "    </tr>\n",
       "  </tbody>\n",
       "</table>\n",
       "</div>"
      ],
      "text/plain": [
       "   Book_ID                   Title               Author       Genre  Year  \\\n",
       "0        1        The Great Gatsby  F. Scott Fitzgerald     Fiction  1925   \n",
       "1        2                    1984        George Orwell   Dystopian  1949   \n",
       "2        3   To Kill a Mockingbird           Harper Lee     Fiction  1960   \n",
       "3        4         Brave New World        Aldous Huxley   Dystopian  1932   \n",
       "4        5               Moby Dick      Herman Melville     Fiction  1851   \n",
       "5        6  The Catcher in the Rye        J.D. Salinger     Fiction  1951   \n",
       "6        7                The Road      Cormac McCarthy   Dystopian  2006   \n",
       "7        8     Pride and Prejudice          Jane Austen     Romance  1813   \n",
       "8        9          Fahrenheit 451         Ray Bradbury   Dystopian  1953   \n",
       "9       10           War and Peace          Leo Tolstoy  Historical  1869   \n",
       "\n",
       "   Rating Available  \n",
       "0     8.5       Yes  \n",
       "1     9.0        No  \n",
       "2     9.3       Yes  \n",
       "3     8.0       Yes  \n",
       "4     7.5        No  \n",
       "5     8.0       Yes  \n",
       "6     8.5       Yes  \n",
       "7     9.1       Yes  \n",
       "8     8.2        No  \n",
       "9     9.0       Yes  "
      ]
     },
     "execution_count": 3,
     "metadata": {
     },
     "output_type": "execute_result"
    }
   ],
   "source": [
    "import pandas as pd\n",
    "\n",
    "data = {\n",
    "    \"Book_ID\": [1, 2, 3, 4, 5, 6, 7, 8, 9, 10],\n",
    "    \"Title\": [\n",
    "        \"The Great Gatsby\",\n",
    "        \"1984\",\n",
    "        \"To Kill a Mockingbird\",\n",
    "        \"Brave New World\",\n",
    "        \"Moby Dick\",\n",
    "        \"The Catcher in the Rye\",\n",
    "        \"The Road\",\n",
    "        \"Pride and Prejudice\",\n",
    "        \"Fahrenheit 451\",\n",
    "        \"War and Peace\"\n",
    "    ],\n",
    "    \"Author\": [\n",
    "        \"F. Scott Fitzgerald\",\n",
    "        \"George Orwell\",\n",
    "        \"Harper Lee\",\n",
    "        \"Aldous Huxley\",\n",
    "        \"Herman Melville\",\n",
    "        \"J.D. Salinger\",\n",
    "        \"Cormac McCarthy\",\n",
    "        \"Jane Austen\",\n",
    "        \"Ray Bradbury\",\n",
    "        \"Leo Tolstoy\"\n",
    "    ],\n",
    "    \"Genre\": [\n",
    "        \"Fiction\",\n",
    "        \"Dystopian\",\n",
    "        \"Fiction\",\n",
    "        \"Dystopian\",\n",
    "        \"Fiction\",\n",
    "        \"Fiction\",\n",
    "        \"Dystopian\",\n",
    "        \"Romance\",\n",
    "        \"Dystopian\",\n",
    "        \"Historical\"\n",
    "    ],\n",
    "    \"Year\": [1925, 1949, 1960, 1932, 1851, 1951, 2006, 1813, 1953, 1869],\n",
    "    \"Rating\": [8.5, 9.0, 9.3, 8.0, 7.5, 8.0, 8.5, 9.1, 8.2, 9.0],\n",
    "    \"Available\": [\"Yes\", \"No\", \"Yes\", \"Yes\", \"No\", \"Yes\", \"Yes\", \"Yes\", \"No\", \"Yes\"]\n",
    "}\n",
    "df=pd.DataFrame(data)\n",
    "df"
   ]
  },
  {
   "cell_type": "markdown",
   "id": "afbb26",
   "metadata": {
    "collapsed": false
   },
   "source": [
    "**Using the provided DataFrame, filter out all the books that belong to the \"Dystopian\" genre and have a rating higher than 8.0.**\n"
   ]
  },
  {
   "cell_type": "code",
   "execution_count": 28,
   "id": "663a49",
   "metadata": {
    "collapsed": false
   },
   "outputs": [
    {
     "data": {
      "text/html": [
       "<div>\n",
       "<style scoped>\n",
       "    .dataframe tbody tr th:only-of-type {\n",
       "        vertical-align: middle;\n",
       "    }\n",
       "\n",
       "    .dataframe tbody tr th {\n",
       "        vertical-align: top;\n",
       "    }\n",
       "\n",
       "    .dataframe thead th {\n",
       "        text-align: right;\n",
       "    }\n",
       "</style>\n",
       "<table border=\"1\" class=\"dataframe\">\n",
       "  <thead>\n",
       "    <tr style=\"text-align: right;\">\n",
       "      <th></th>\n",
       "      <th>Book_ID</th>\n",
       "      <th>Title</th>\n",
       "      <th>Author</th>\n",
       "      <th>Genre</th>\n",
       "      <th>Year</th>\n",
       "      <th>Rating</th>\n",
       "      <th>Available</th>\n",
       "    </tr>\n",
       "  </thead>\n",
       "  <tbody>\n",
       "    <tr>\n",
       "      <th>1</th>\n",
       "      <td>2</td>\n",
       "      <td>1984</td>\n",
       "      <td>George Orwell</td>\n",
       "      <td>Dystopian</td>\n",
       "      <td>1949</td>\n",
       "      <td>9.0</td>\n",
       "      <td>No</td>\n",
       "    </tr>\n",
       "    <tr>\n",
       "      <th>6</th>\n",
       "      <td>7</td>\n",
       "      <td>The Road</td>\n",
       "      <td>Cormac McCarthy</td>\n",
       "      <td>Dystopian</td>\n",
       "      <td>2006</td>\n",
       "      <td>8.5</td>\n",
       "      <td>Yes</td>\n",
       "    </tr>\n",
       "    <tr>\n",
       "      <th>8</th>\n",
       "      <td>9</td>\n",
       "      <td>Fahrenheit 451</td>\n",
       "      <td>Ray Bradbury</td>\n",
       "      <td>Dystopian</td>\n",
       "      <td>1953</td>\n",
       "      <td>8.2</td>\n",
       "      <td>No</td>\n",
       "    </tr>\n",
       "  </tbody>\n",
       "</table>\n",
       "</div>"
      ],
      "text/plain": [
       "   Book_ID           Title           Author      Genre  Year  Rating Available\n",
       "1        2            1984    George Orwell  Dystopian  1949     9.0        No\n",
       "6        7        The Road  Cormac McCarthy  Dystopian  2006     8.5       Yes\n",
       "8        9  Fahrenheit 451     Ray Bradbury  Dystopian  1953     8.2        No"
      ]
     },
     "execution_count": 28,
     "metadata": {
     },
     "output_type": "execute_result"
    }
   ],
   "source": [
    "# Solving using traditonal way\n",
    "info = df[(df['Genre']=='Dystopian') & (df['Rating']>8.0)]\n",
    "info"
   ]
  },
  {
   "cell_type": "code",
   "execution_count": 38,
   "id": "64d779",
   "metadata": {
    "collapsed": false
   },
   "outputs": [
    {
     "data": {
      "text/html": [
       "<div>\n",
       "<style scoped>\n",
       "    .dataframe tbody tr th:only-of-type {\n",
       "        vertical-align: middle;\n",
       "    }\n",
       "\n",
       "    .dataframe tbody tr th {\n",
       "        vertical-align: top;\n",
       "    }\n",
       "\n",
       "    .dataframe thead th {\n",
       "        text-align: right;\n",
       "    }\n",
       "</style>\n",
       "<table border=\"1\" class=\"dataframe\">\n",
       "  <thead>\n",
       "    <tr style=\"text-align: right;\">\n",
       "      <th></th>\n",
       "      <th>Book_ID</th>\n",
       "      <th>Title</th>\n",
       "      <th>Author</th>\n",
       "      <th>Genre</th>\n",
       "      <th>Year</th>\n",
       "      <th>Rating</th>\n",
       "      <th>Available</th>\n",
       "    </tr>\n",
       "  </thead>\n",
       "  <tbody>\n",
       "    <tr>\n",
       "      <th>1</th>\n",
       "      <td>2</td>\n",
       "      <td>1984</td>\n",
       "      <td>George Orwell</td>\n",
       "      <td>Dystopian</td>\n",
       "      <td>1949</td>\n",
       "      <td>9.0</td>\n",
       "      <td>No</td>\n",
       "    </tr>\n",
       "    <tr>\n",
       "      <th>6</th>\n",
       "      <td>7</td>\n",
       "      <td>The Road</td>\n",
       "      <td>Cormac McCarthy</td>\n",
       "      <td>Dystopian</td>\n",
       "      <td>2006</td>\n",
       "      <td>8.5</td>\n",
       "      <td>Yes</td>\n",
       "    </tr>\n",
       "    <tr>\n",
       "      <th>8</th>\n",
       "      <td>9</td>\n",
       "      <td>Fahrenheit 451</td>\n",
       "      <td>Ray Bradbury</td>\n",
       "      <td>Dystopian</td>\n",
       "      <td>1953</td>\n",
       "      <td>8.2</td>\n",
       "      <td>No</td>\n",
       "    </tr>\n",
       "  </tbody>\n",
       "</table>\n",
       "</div>"
      ],
      "text/plain": [
       "   Book_ID           Title           Author      Genre  Year  Rating Available\n",
       "1        2            1984    George Orwell  Dystopian  1949     9.0        No\n",
       "6        7        The Road  Cormac McCarthy  Dystopian  2006     8.5       Yes\n",
       "8        9  Fahrenheit 451     Ray Bradbury  Dystopian  1953     8.2        No"
      ]
     },
     "execution_count": 38,
     "metadata": {
     },
     "output_type": "execute_result"
    }
   ],
   "source": [
    "# Solving same question with advanced way\n",
    "# suppose you are using a \" \" with in the strings then inside () you have to use ' ' to define value: Here \"Dystopian\" for value for function ' ''\n",
    "info1= df.query('(Genre==\"Dystopian\") & (Rating > 8.0)') \n",
    "info1"
   ]
  },
  {
   "cell_type": "markdown",
   "id": "070587",
   "metadata": {
    "collapsed": false
   },
   "source": [
    "**From the filtered results, select only the titles and authors of the books that are currently available.**\n"
   ]
  },
  {
   "cell_type": "code",
   "execution_count": 80,
   "id": "5a2c24",
   "metadata": {
    "collapsed": false
   },
   "outputs": [
    {
     "data": {
      "text/html": [
       "<div>\n",
       "<style scoped>\n",
       "    .dataframe tbody tr th:only-of-type {\n",
       "        vertical-align: middle;\n",
       "    }\n",
       "\n",
       "    .dataframe tbody tr th {\n",
       "        vertical-align: top;\n",
       "    }\n",
       "\n",
       "    .dataframe thead th {\n",
       "        text-align: right;\n",
       "    }\n",
       "</style>\n",
       "<table border=\"1\" class=\"dataframe\">\n",
       "  <thead>\n",
       "    <tr style=\"text-align: right;\">\n",
       "      <th></th>\n",
       "      <th>Title</th>\n",
       "      <th>Author</th>\n",
       "    </tr>\n",
       "  </thead>\n",
       "  <tbody>\n",
       "    <tr>\n",
       "      <th>6</th>\n",
       "      <td>The Road</td>\n",
       "      <td>Cormac McCarthy</td>\n",
       "    </tr>\n",
       "  </tbody>\n",
       "</table>\n",
       "</div>"
      ],
      "text/plain": [
       "      Title           Author\n",
       "6  The Road  Cormac McCarthy"
      ]
     },
     "execution_count": 80,
     "metadata": {
     },
     "output_type": "execute_result"
    }
   ],
   "source": [
    "# This a way to extarct the column usinf filter\n",
    "beta=(info[info['Available'].str.contains('Y')])\n",
    "resul= beta.iloc[:,1:3]\n",
    "resul"
   ]
  },
  {
   "cell_type": "code",
   "execution_count": 86,
   "id": "8f74fb",
   "metadata": {
    "collapsed": false
   },
   "outputs": [
    {
     "data": {
      "text/html": [
       "<div>\n",
       "<style scoped>\n",
       "    .dataframe tbody tr th:only-of-type {\n",
       "        vertical-align: middle;\n",
       "    }\n",
       "\n",
       "    .dataframe tbody tr th {\n",
       "        vertical-align: top;\n",
       "    }\n",
       "\n",
       "    .dataframe thead th {\n",
       "        text-align: right;\n",
       "    }\n",
       "</style>\n",
       "<table border=\"1\" class=\"dataframe\">\n",
       "  <thead>\n",
       "    <tr style=\"text-align: right;\">\n",
       "      <th></th>\n",
       "      <th>Title</th>\n",
       "      <th>Author</th>\n",
       "    </tr>\n",
       "  </thead>\n",
       "  <tbody>\n",
       "    <tr>\n",
       "      <th>6</th>\n",
       "      <td>The Road</td>\n",
       "      <td>Cormac McCarthy</td>\n",
       "    </tr>\n",
       "  </tbody>\n",
       "</table>\n",
       "</div>"
      ],
      "text/plain": [
       "      Title           Author\n",
       "6  The Road  Cormac McCarthy"
      ]
     },
     "execution_count": 86,
     "metadata": {
     },
     "output_type": "execute_result"
    }
   ],
   "source": [
    "re=info.loc[info['Available']=='Yes',['Title','Author']] # Using loc method\n",
    "re"
   ]
  },
  {
   "cell_type": "code",
   "execution_count": 0,
   "id": "60595f",
   "metadata": {
    "collapsed": false
   },
   "outputs": [
   ],
   "source": [
   ]
  }
 ],
 "metadata": {
  "kernelspec": {
   "argv": [
    "/usr/bin/python3",
    "-m",
    "ipykernel",
    "--HistoryManager.enabled=False",
    "--matplotlib=inline",
    "-c",
    "%config InlineBackend.figure_formats = set(['retina'])\nimport matplotlib; matplotlib.rcParams['figure.figsize'] = (12, 7)",
    "-f",
    "{connection_file}"
   ],
   "display_name": "Python 3 (system-wide)",
   "env": {
   },
   "language": "python",
   "metadata": {
    "cocalc": {
     "description": "Python 3 programming language",
     "priority": 100,
     "url": "https://www.python.org/"
    }
   },
   "name": "python3",
   "resource_dir": "/ext/jupyter/kernels/python3"
  },
  "language_info": {
   "codemirror_mode": {
    "name": "ipython",
    "version": 3
   },
   "file_extension": ".py",
   "mimetype": "text/x-python",
   "name": "python",
   "nbconvert_exporter": "python",
   "pygments_lexer": "ipython3",
   "version": "3.10.12"
  }
 },
 "nbformat": 4,
 "nbformat_minor": 4
}