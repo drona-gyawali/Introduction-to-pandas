{
 "cells": [
  {
   "cell_type": "code",
   "execution_count": 1,
   "metadata": {},
   "outputs": [
    {
     "name": "stdout",
     "output_type": "stream",
     "text": [
      "start\n"
     ]
    }
   ],
   "source": [
    "print('start')"
   ]
  },
  {
   "cell_type": "code",
   "execution_count": 10,
   "metadata": {},
   "outputs": [
    {
     "name": "stdout",
     "output_type": "stream",
     "text": [
      "8\n"
     ]
    }
   ],
   "source": [
    "#Indexing Numpy Arrays\n",
    "import numpy as np\n",
    "var = np.array([9,8,7,6]) #Extarcting the number 8 through slicing\n",
    "print(var[1])"
   ]
  },
  {
   "cell_type": "code",
   "execution_count": 35,
   "metadata": {},
   "outputs": [
    {
     "name": "stdout",
     "output_type": "stream",
     "text": [
      "Dimension: 2 d\n",
      "[[1 2 3 4]\n",
      " [5 6 7 8]]\n",
      "\n",
      "Task to get 7\n",
      "7 Task Achieved\n"
     ]
    }
   ],
   "source": [
    "# Indexing 2d Numpy array\n",
    "var=np.array([[1,2,3,4],[5,6,7,8]])\n",
    "print('Dimension:',var.ndim,'d') # Checking the dimension of array\n",
    "print(var)\n",
    "print()\n",
    "print('Task to get 7')\n",
    "print(var[1,2],'Task Achieved') # Task to get 7 : First Axes(1) then index (2)  : Basically we have two axes which is 0,1\n"
   ]
  },
  {
   "cell_type": "code",
   "execution_count": 46,
   "metadata": {},
   "outputs": [
    {
     "name": "stdout",
     "output_type": "stream",
     "text": [
      "Dimension:3d\n",
      "[[[ 1  2  3  4  5  6]\n",
      "  [11 12 13 14 15 16]\n",
      "  [90 89 76 45 67 56]]]\n",
      "\n",
      "Task to get 14\n",
      "14 Task Achieved\n"
     ]
    }
   ],
   "source": [
    "# Indexing 3d Numpy Array\n",
    "var=np.array([[[1,2,3,4,5,6],[11,12,13,14,15,16],[90,89,76,45,67,56]]])\n",
    "print(f'Dimension:{var.ndim}d') # Checking the dimension\n",
    "print(var)\n",
    "print()\n",
    "print('Task to get 14')\n",
    "print(var[0,1,3],'Task Achieved') # Task to get 14 :first set:(0) then Axes(1) following that index(3)\n"
   ]
  },
  {
   "cell_type": "code",
   "execution_count": 62,
   "metadata": {},
   "outputs": [
    {
     "name": "stdout",
     "output_type": "stream",
     "text": [
      "[1, 2, 3, 4, 5, 6, 7, 8]\n",
      "\n",
      "Task to get 2 to 6: [2, 3, 4, 5, 6]\n",
      "Task to get start to end: [1, 2, 3, 4, 5, 6, 7, 8]\n",
      "Task to get end to start: [8, 7, 6, 5, 4, 3, 2, 1]\n"
     ]
    }
   ],
   "source": [
    "#slicing \n",
    "var=([1,2,3,4,5,6,7,8])\n",
    "print(var)\n",
    "print()\n",
    "print('Task to get 2 to 6:',var[1:6])  # Start index (1) then Stop Index (6)\n",
    "print('Task to get start to end:', var[::]) # Automatically picked the value from starting to end\n",
    "print('Task to get end to start:',var[::-1]) # start and end is set to deafault full sequence  step(-1) which moves backward (from right to left)"
   ]
  },
  {
   "cell_type": "code",
   "execution_count": 68,
   "metadata": {},
   "outputs": [
    {
     "name": "stdout",
     "output_type": "stream",
     "text": [
      "0     6\n",
      "1     7\n",
      "2     8\n",
      "3     9\n",
      "4    10\n",
      "5    11\n",
      "6    12\n",
      "dtype: int64\n"
     ]
    }
   ],
   "source": [
    "#Vetorized Operations : Performing the operation in entire array /series/column\n",
    "import pandas as pd\n",
    "# Series\n",
    "data=[1,2,3,4,5,6,7]\n",
    "opt=pd.Series(data)\n",
    "vectorized=opt+5 #Evaluating operation\n",
    "print(f'{vectorized}') # We have successfully perfrom the operation in series"
   ]
  },
  {
   "cell_type": "code",
   "execution_count": 74,
   "metadata": {},
   "outputs": [
    {
     "name": "stdout",
     "output_type": "stream",
     "text": [
      "Additiion:[[[  2   4   6   8  10  12]\n",
      "  [ 22  24  26  28  30  32]\n",
      "  [180 178 152  90 134 112]]]\n",
      "Subraction:[[[0 0 0 0 0 0]\n",
      "  [0 0 0 0 0 0]\n",
      "  [0 0 0 0 0 0]]]\n",
      "Multiplication:[[[   1    4    9   16   25   36]\n",
      "  [ 121  144  169  196  225  256]\n",
      "  [8100 7921 5776 2025 4489 3136]]]\n"
     ]
    }
   ],
   "source": [
    "#Numpy\n",
    "var=np.array([[[1,2,3,4,5,6],[11,12,13,14,15,16],[90,89,76,45,67,56]]])\n",
    "var1=np.array([[[1,2,3,4,5,6],[11,12,13,14,15,16],[90,89,76,45,67,56]]])\n",
    "\n",
    "add = var+var1\n",
    "sub= var-var1\n",
    "mul= var*var1\n",
    "\n",
    "print(f'Additiion:{add}')\n",
    "print(f'Subraction:{sub}')\n",
    "print(f'Multiplication:{mul}') # We can perform thivectorized opteration in numpy as well"
   ]
  },
  {
   "cell_type": "code",
   "execution_count": 76,
   "metadata": {},
   "outputs": [
    {
     "name": "stdout",
     "output_type": "stream",
     "text": [
      "[[[False False False False False False]\n",
      "  [False False False False False False]\n",
      "  [False False False False False False]]]\n"
     ]
    }
   ],
   "source": [
    "#Element wise comparison\n",
    "var=np.array([[[1,2,3,4,5,6],[11,12,13,14,15,16],[90,89,76,45,67,56]]])\n",
    "if_greater=var>90\n",
    "print(if_greater)\n"
   ]
  },
  {
   "cell_type": "code",
   "execution_count": 77,
   "metadata": {},
   "outputs": [
    {
     "name": "stdout",
     "output_type": "stream",
     "text": [
      "Total Sum: 21\n",
      "Column-wise Sum: [5 7 9]\n"
     ]
    }
   ],
   "source": [
    "arr = np.array([[1, 2, 3], [4, 5, 6]])\n",
    "\n",
    "# Sum all elements\n",
    "total_sum = np.sum(arr)\n",
    "\n",
    "# Sum along each column (axis 0)\n",
    "column_sum = np.sum(arr, axis=0)\n",
    "\n",
    "print(\"Total Sum:\", total_sum)\n",
    "print(\"Column-wise Sum:\", column_sum)\n"
   ]
  },
  {
   "cell_type": "code",
   "execution_count": 81,
   "metadata": {},
   "outputs": [
    {
     "data": {
      "text/plain": [
       "array([3, 4])"
      ]
     },
     "execution_count": 81,
     "metadata": {},
     "output_type": "execute_result"
    }
   ],
   "source": [
    "#Filtering\n",
    "arr=np.array([1,2,3,4])\n",
    "arr=arr[arr>2]  #We can filter the value according to our need\n",
    "arr"
   ]
  },
  {
   "cell_type": "code",
   "execution_count": 87,
   "metadata": {},
   "outputs": [
    {
     "name": "stdout",
     "output_type": "stream",
     "text": [
      "1.3383333333333332\n"
     ]
    }
   ],
   "source": [
    "# Vectorized implementation of Mean Squared Error (MSE) cost function(Machine learning)\n",
    "def compute_cost(X, y, theta):\n",
    "    m = len(y)\n",
    "    predictions = X.dot(theta)  # Vectorized prediction\n",
    "    error = predictions - y\n",
    "    cost = (1 / (2 * m)) * np.dot(error.T, error)  # Vectorized cost calculation\n",
    "    return cost\n",
    "\n",
    "\n",
    "X = np.array([[1, 1], [1, 2], [1, 3]])\n",
    "y = np.array([1, 2, 3])\n",
    "theta = np.array([0.1, 0.2])\n",
    "\n",
    "cost = compute_cost(X, y, theta)\n",
    "print(cost)\n"
   ]
  }
 ],
 "metadata": {
  "kernelspec": {
   "display_name": "Python 3",
   "language": "python",
   "name": "python3"
  },
  "language_info": {
   "codemirror_mode": {
    "name": "ipython",
    "version": 3
   },
   "file_extension": ".py",
   "mimetype": "text/x-python",
   "name": "python",
   "nbconvert_exporter": "python",
   "pygments_lexer": "ipython3",
   "version": "3.12.6"
  }
 },
 "nbformat": 4,
 "nbformat_minor": 2
}
